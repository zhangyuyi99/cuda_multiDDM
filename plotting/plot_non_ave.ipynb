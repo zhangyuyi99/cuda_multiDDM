{
 "cells": [
  {
   "cell_type": "code",
   "execution_count": 50,
   "metadata": {},
   "outputs": [],
   "source": [
    "import matplotlib.pyplot as plt\n",
    "import matplotlib\n",
    "import numpy as np\n",
    "import json\n",
    "import os\n",
    "import re\n",
    "from scipy.optimize import curve_fit\n",
    "from scipy.signal import argrelextrema\n",
    "from scipy.interpolate import interp1d\n",
    "from textwrap import wrap\n",
    "import math\n",
    "import imageio\n",
    "debug = True\n",
    "\n",
    "def read_file(filename):\n",
    "    \n",
    "    scale = int(filename.split(\"/\")[-1].split(\"-\")[0])\n",
    "    tile_count = int(filename.split(\"/\")[-1].split(\"-\")[1])\n",
    "    with open(filename, 'r') as f:\n",
    "        l = [[num for num in line.split(' ')][:-1] for line in f]\n",
    "\n",
    "        lambda_vector = np.array(l[0]).astype('float64')\n",
    "        q_vector = np.reciprocal(lambda_vector)\n",
    "        tau_vector = np.array(l[1]).astype('float64')\n",
    "        \n",
    "        non_ave_ISF = []\n",
    "        for i in range(2,len(l)):\n",
    "            non_ave_ISF_at_t = np.reshape((np.array(l[i]).astype('float64')),(int(scale/2+1),scale))\n",
    "            # non_ave_ISF_at_t = non_ave_ISF_at_t/np.amax(non_ave_ISF_at_t)                             \n",
    "            non_ave_ISF.append(non_ave_ISF_at_t) \n",
    "            \n",
    "    \n",
    "    if debug:\n",
    "        print(len(q_vector))\n",
    "        print(len(tau_vector))\n",
    "        print(len(non_ave_ISF))\n",
    "        print(len(non_ave_ISF))\n",
    "\n",
    "    return (lambda_vector, q_vector, tau_vector, non_ave_ISF, scale, tile_count)"
   ]
  },
  {
   "cell_type": "code",
   "execution_count": 40,
   "metadata": {},
   "outputs": [
    {
     "name": "stdout",
     "output_type": "stream",
     "text": [
      "16\n",
      "100\n",
      "100\n",
      "100\n"
     ]
    }
   ],
   "source": [
    "filename = \"/cicutagroup/yz655/cuda_run_result/testing/test_nonAve_ISF_compressed_fps10_WinterWheat1_2022-07-25-140826-0000/1024-0-nonAve\"\n",
    "# print(read_file(filename))\n",
    "lambda_vector, q_vector, tau_vector, non_ave_ISF, scale, tile_count = read_file(filename)"
   ]
  },
  {
   "cell_type": "code",
   "execution_count": 75,
   "metadata": {},
   "outputs": [],
   "source": [
    "def plot_Iqtau_heatmap(tau_number, tau_vector, scale, non_ave_ISF, filename, plot_path):\n",
    "# def plot_Iqtau_heatmap(tau_number, tau_vector, scale, non_ave_ISF, filename):\n",
    "    \n",
    "    fig,ax = plt.subplots(1,1)\n",
    "\n",
    "    # im = ax.imshow(non_ave_ISF[tau_number], cmap='hot', interpolation='nearest', aspect='auto', extent=[0,scale, 0, (scale/2+1)])\n",
    "    im = ax.imshow(non_ave_ISF[tau_number], cmap='cool', interpolation='nearest', extent=[0,scale, 0, (scale/2+1)],  norm=\"log\")\n",
    "    # ax.set_yscale('log')\n",
    "\n",
    "    # Where we want the ticks, in pixel locations\n",
    "    xticks = range(0,scale)\n",
    "    yticks = range(0,scale)\n",
    "    # What those pixel locations correspond to in data coordinates.\n",
    "    # Also set the float format here\n",
    "    xticklabels = [\"{:6.2f}\".format(i) for i in xticks]\n",
    "    yticklabels = [\"{:6.2f}\".format(i) for i in yticks]\n",
    "\n",
    "    plt.xlabel('pixel')\n",
    "    plt.ylabel('pixel')\n",
    "    plt.title('ISF map at t='+str((tau_number+1)/10)+'s')\n",
    "    fig.colorbar(im)\n",
    "    \n",
    "    # plt.show()\n",
    "    \n",
    "    if not os.path.exists(plot_path):\n",
    "        os.makedirs(plot_path)\n",
    "\n",
    "    plt.savefig(plot_path+'heatmap'+'_tau='+str((tau_number+1)/10)+'.jpg', bbox_inches='tight')\n",
    "    plt.close()\n",
    "    "
   ]
  },
  {
   "cell_type": "code",
   "execution_count": 76,
   "metadata": {},
   "outputs": [],
   "source": [
    "plot_path = \"/cicutagroup/yz655/cuda_run_result/testing/test_nonAve_ISF_compressed_fps10_WinterWheat1_2022-07-25-140826-0000/heatmap_plots/\"\n",
    "for tau_number in range(100):\n",
    "    plot_Iqtau_heatmap(tau_number, tau_vector, scale, non_ave_ISF, filename, plot_path)"
   ]
  },
  {
   "cell_type": "code",
   "execution_count": 81,
   "metadata": {},
   "outputs": [],
   "source": [
    "\n",
    "\n",
    "def plot_gif(png_dir):\n",
    "    images = []\n",
    "    for file_name in sorted(os.listdir(png_dir)):\n",
    "        if file_name.endswith('.jpg'):\n",
    "            file_path = os.path.join(png_dir, file_name)\n",
    "            images.append(imageio.imread(file_path))\n",
    "\n",
    "    # Make it pause at the end so that the viewers can ponder\n",
    "    for _ in range(10):\n",
    "        images.append(imageio.imread(file_path))\n",
    "\n",
    "    imageio.mimsave(png_dir+'movie.gif', images)"
   ]
  },
  {
   "cell_type": "code",
   "execution_count": 51,
   "metadata": {},
   "outputs": [
    {
     "data": {
      "text/plain": [
       "['asinh', 'function', 'functionlog', 'linear', 'log', 'logit', 'symlog']"
      ]
     },
     "execution_count": 51,
     "metadata": {},
     "output_type": "execute_result"
    }
   ],
   "source": [
    "matplotlib.scale.get_scale_names()"
   ]
  },
  {
   "cell_type": "code",
   "execution_count": 80,
   "metadata": {},
   "outputs": [],
   "source": [
    "def make_heatmap_gif(filename, plot_path):\n",
    "    \n",
    "    # print(read_file(filename))\n",
    "    lambda_vector, q_vector, tau_vector, non_ave_ISF, scale, tile_count = read_file(filename)\n",
    "    \n",
    "    for tau_number in range(len(tau_vector)):\n",
    "        plot_Iqtau_heatmap(tau_number, tau_vector, scale, non_ave_ISF, filename, plot_path)\n",
    "        \n",
    "    plot_gif(plot_path)\n",
    "    "
   ]
  },
  {
   "cell_type": "code",
   "execution_count": 82,
   "metadata": {},
   "outputs": [
    {
     "name": "stdout",
     "output_type": "stream",
     "text": [
      "16\n",
      "100\n",
      "100\n",
      "100\n"
     ]
    }
   ],
   "source": [
    "filename = \"/cicutagroup/yz655/cuda_run_result/testing/test_nonAve_ISF_DJI_0050/1024-0-nonAve\"\n",
    "plot_path = \"/cicutagroup/yz655/cuda_run_result/testing/test_nonAve_ISF_DJI_0050/heatmap_plots/\"\n",
    "\n",
    "make_heatmap_gif(filename, plot_path)\n"
   ]
  },
  {
   "cell_type": "code",
   "execution_count": 83,
   "metadata": {},
   "outputs": [
    {
     "name": "stderr",
     "output_type": "stream",
     "text": [
      "/tmp/ipykernel_6087/2861615859.py:6: DeprecationWarning: Starting with ImageIO v3 the behavior of this function will switch to that of iio.v3.imread. To keep the current behavior (and make this warning disappear) use `import imageio.v2 as imageio` or call `imageio.v2.imread` directly.\n",
      "  images.append(imageio.imread(file_path))\n",
      "/tmp/ipykernel_6087/2861615859.py:10: DeprecationWarning: Starting with ImageIO v3 the behavior of this function will switch to that of iio.v3.imread. To keep the current behavior (and make this warning disappear) use `import imageio.v2 as imageio` or call `imageio.v2.imread` directly.\n",
      "  images.append(imageio.imread(file_path))\n"
     ]
    }
   ],
   "source": [
    "plot_gif(plot_path)"
   ]
  },
  {
   "cell_type": "code",
   "execution_count": 86,
   "metadata": {},
   "outputs": [
    {
     "name": "stdout",
     "output_type": "stream",
     "text": [
      "16\n",
      "100\n",
      "100\n",
      "100\n"
     ]
    }
   ],
   "source": [
    "filename = \"/cicutagroup/yz655/cuda_run_result/testing/test_nonAve_ISF_DJI_0052/1024-0-nonAve\"\n",
    "plot_path = \"/cicutagroup/yz655/cuda_run_result/testing/test_nonAve_ISF_DJI_0052/heatmap_plots/\"\n",
    "\n",
    "make_heatmap_gif(filename, plot_path)"
   ]
  },
  {
   "cell_type": "code",
   "execution_count": 87,
   "metadata": {},
   "outputs": [
    {
     "name": "stderr",
     "output_type": "stream",
     "text": [
      "/tmp/ipykernel_6087/2861615859.py:6: DeprecationWarning: Starting with ImageIO v3 the behavior of this function will switch to that of iio.v3.imread. To keep the current behavior (and make this warning disappear) use `import imageio.v2 as imageio` or call `imageio.v2.imread` directly.\n",
      "  images.append(imageio.imread(file_path))\n",
      "/tmp/ipykernel_6087/2861615859.py:10: DeprecationWarning: Starting with ImageIO v3 the behavior of this function will switch to that of iio.v3.imread. To keep the current behavior (and make this warning disappear) use `import imageio.v2 as imageio` or call `imageio.v2.imread` directly.\n",
      "  images.append(imageio.imread(file_path))\n"
     ]
    }
   ],
   "source": [
    "plot_gif(plot_path)"
   ]
  }
 ],
 "metadata": {
  "kernelspec": {
   "display_name": "Python 3.8.10 64-bit",
   "language": "python",
   "name": "python3"
  },
  "language_info": {
   "codemirror_mode": {
    "name": "ipython",
    "version": 3
   },
   "file_extension": ".py",
   "mimetype": "text/x-python",
   "name": "python",
   "nbconvert_exporter": "python",
   "pygments_lexer": "ipython3",
   "version": "3.8.10"
  },
  "orig_nbformat": 4,
  "vscode": {
   "interpreter": {
    "hash": "e7370f93d1d0cde622a1f8e1c04877d8463912d04d973331ad4851f04de6915a"
   }
  }
 },
 "nbformat": 4,
 "nbformat_minor": 2
}
