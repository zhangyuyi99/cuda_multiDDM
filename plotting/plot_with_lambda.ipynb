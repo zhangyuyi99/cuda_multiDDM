{
 "cells": [
  {
   "cell_type": "code",
   "execution_count": 2,
   "metadata": {},
   "outputs": [],
   "source": [
    "import matplotlib.pyplot as plt\n",
    "import numpy as np\n",
    "import json\n",
    "import os\n",
    "import re\n",
    "from scipy.optimize import curve_fit\n",
    "from scipy.signal import argrelextrema\n",
    "from scipy.interpolate import interp1d\n",
    "from textwrap import wrap\n",
    "import math\n",
    "debug = False\n",
    "plot_on = False\n",
    "\n",
    "def read_file(filename):\n",
    "    \n",
    "    scale = int(filename.split(\"/\")[-1].split(\"-\")[0])\n",
    "    tile_count = int(filename.split(\"/\")[-1].split(\"-\")[1])\n",
    "    with open(filename, 'r') as f:\n",
    "        l = [[num for num in line.split(' ')][:-1] for line in f]\n",
    "\n",
    "        lambda_vector = np.array(l[0]).astype('float64')\n",
    "        q_vector = np.reciprocal(lambda_vector)\n",
    "        tau_vector = np.array(l[1]).astype('float64')\n",
    "        Iqtau_mat = np.array(l[2:]).astype('float64')\n",
    "    \n",
    "    if debug:\n",
    "        print(len(q_vector))\n",
    "        print(len(tau_vector))\n",
    "        print(Iqtau_mat.shape)\n",
    "\n",
    "    return (lambda_vector, q_vector, tau_vector, Iqtau_mat, scale, tile_count)\n",
    "\n",
    "def plot_Iqtau_heatmap(lambda_vector, q_vector, tau_vector, Iqtau_mat, filename, plot_path):\n",
    "    \n",
    "    fig,ax = plt.subplots(1,1)\n",
    "\n",
    "    im = ax.imshow(Iqtau_mat, cmap='hot', interpolation='nearest', aspect='auto', extent=[tau_vector[0],tau_vector[-1], q_vector[-1], q_vector[0]])\n",
    "    # ax.set_yscale('log')\n",
    "\n",
    "    # Where we want the ticks, in pixel locations\n",
    "    xticks = tau_vector\n",
    "    yticks = q_vector\n",
    "    # What those pixel locations correspond to in data coordinates.\n",
    "    # Also set the float format here\n",
    "    xticklabels = [\"{:6.2f}\".format(i) for i in xticks]\n",
    "    yticklabels = [\"{:6.2f}\".format(i) for i in yticks]\n",
    "\n",
    "    plt.xlabel('tau(s)')\n",
    "    plt.ylabel('q')\n",
    "    fig.colorbar(im)\n",
    "    \n",
    "    plt.savefig(plot_path+'heatmap.jpg', bbox_inches='tight')\n",
    "    plt.close()\n",
    "    # plt.show()\n",
    "    \n",
    "def plot_Iqtau_tau(lambda_value, lambda_vector, q_vector, tau_vector, Iqtau_mat, filename, plot_path):\n",
    "    \n",
    "    try:    \n",
    "        lambda_number = np.where(lambda_vector == lambda_value)[0][0]\n",
    "    except:\n",
    "        print(\"Failed to plot Iqtau_tau for a non-exsiting lambda=\"+str(lambda_value))\n",
    "        return \n",
    "    \n",
    "    plt.scatter(tau_vector, Iqtau_mat[lambda_number], s=6)\n",
    "    plt.xlabel('tau(s)')\n",
    "    plt.ylabel('Iqtau')\n",
    "    plt.title('Iqtau-tau plot for lambda='+str(lambda_value))\n",
    "    \n",
    "    plt.savefig(plot_path+'Iqtau_tau_lambda='+str(lambda_value)+'.jpg', bbox_inches='tight')\n",
    "    plt.close()\n",
    "    # plt.show()\n",
    "\n",
    "def plot_Iqtau_q(tau_number, lambda_vector, q_vector, tau_vector, Iqtau_mat, filename, plot_path):\n",
    "\n",
    "    try:    \n",
    "        tau_value = tau_vector[tau_number]\n",
    "    except:\n",
    "        print(\"Failed to plot Iqtau_q for a non-exsiting tau_number=\"+str(tau_number))\n",
    "        return \n",
    "    \n",
    "    x = q_vector\n",
    "    y = Iqtau_mat[:,tau_number]\n",
    "    x_new = np.linspace(x.min(), x.max(),500)\n",
    "\n",
    "    f = interp1d(x, y, kind='quadratic')\n",
    "    y_smooth=f(x_new)\n",
    "    \n",
    "    fig = plt.figure()\n",
    "    ax = plt.gca()\n",
    "    # ax.scatter(data['o_value'] ,data['time_diff_day'] , c='blue', alpha=0.05, edgecolors='none')\n",
    "    ax.plot (x_new,y_smooth)\n",
    "    ax.scatter (x, y, s=30, alpha=0.5)\n",
    "    ax.set_xscale('log')\n",
    "\n",
    "    # plt.plot (x_new,y_smooth)\n",
    "    # plt.scatter (x, y, s=30, alpha=0.5)\n",
    "    # plt.scatter(q_vector, Iqtau_mat[:,tau_number], s=30, alpha=0.5)\n",
    "    plt.xlabel('q')\n",
    "    plt.ylabel('Iqtau')\n",
    "    plt.title('Iqtau-tau plot for tau='+str(tau_value)+'s')\n",
    "    plt.savefig(plot_path+'Iqtau_q_tau='+str(tau_value)+'.jpg', bbox_inches='tight')\n",
    "    plt.close()\n",
    "    # plt.show()\n",
    "    \n",
    "def objective(x, A, v, x_c, B, C):\n",
    "    return A * (1 - np.exp(np.cos(2*math.pi*v*x)))*np.exp(-x/x_c) + B*x + C\n",
    "    # return A * (1 - np.cos(2*math.pi*v*x))*np.exp(-x/x_c) + B*x + C\n"
   ]
  },
  {
   "cell_type": "code",
   "execution_count": 3,
   "metadata": {},
   "outputs": [],
   "source": [
    "def fit_and_plot(lambda_value, lambda_vector, q_vector, tau_vector, Iqtau_mat, filename, plot_path):\n",
    "    \n",
    "    try:    \n",
    "        lambda_number = np.where(lambda_vector == lambda_value)[0][0]\n",
    "    except:\n",
    "        print(\"Failed to fit Iqtau_tau for a non-exsiting lambda=\"+str(lambda_value))\n",
    "        return \n",
    "    \n",
    "    # set tau_offset to be half period before the first local maximum\n",
    "    try:\n",
    "        first_max_ord = argrelextrema(Iqtau_mat[lambda_number], np.greater)[0][0]\n",
    "        first_min_ord = argrelextrema(Iqtau_mat[lambda_number], np.less)[0][0]\n",
    "        first_min_val = Iqtau_mat[lambda_number][first_min_ord]\n",
    "        start_point_ord = (np.abs(Iqtau_mat[lambda_number][:first_max_ord] - first_min_val)).argmin()\n",
    "        tau_offset = start_point_ord\n",
    "    except:\n",
    "        tau_offset = 0\n",
    "        print(\"Unable to identify the first peak in Iqtau for lambda=\"+str(lambda_value)+', set tau_offset=0')\n",
    "        \n",
    "    x = tau_vector[tau_offset:]\n",
    "    y = Iqtau_mat[lambda_number][tau_offset:]\n",
    "    \n",
    "    # estimate gradient and intercept\n",
    "    B_init = (y[-1]-y[0])/(x[-1]-x[0])\n",
    "    C_init = y[-1]-B_init*x[-1]\n",
    "    \n",
    "    # estimate the initial fitting params\n",
    "    # estimate the period by local minimum\n",
    "    try:\n",
    "        y_local_max_ord = argrelextrema(y-B_init*x, np.greater)\n",
    "        y_local_min_ord = argrelextrema(y-B_init*x, np.less)\n",
    "        # y_local_max_ord = argrelextrema(y, np.greater)\n",
    "        # y_local_min_ord = argrelextrema(y, np.less)\n",
    "        if len(y_local_max_ord[0])>=2:\n",
    "            T = (x[y_local_max_ord[0][1]]-x[y_local_max_ord[0][0]])\n",
    "        else:\n",
    "            T = 2*(x[y_local_min_ord[0][0]]-x[y_local_max_ord[0][0]])\n",
    "    except:\n",
    "        T = 2\n",
    "        print(\"Unable to estimate oscillation period T, set T=2.\")\n",
    "\n",
    "    v_init = 1/T\n",
    "    \n",
    "    # initial parameters, A, v, x_c, B, C\n",
    "    p0 = [1,v_init,1,B_init,C_init]\n",
    "    \n",
    "    # curve fit\n",
    "    try:\n",
    "        popt, _ = curve_fit(objective, x, y, p0)\n",
    "    except:\n",
    "        print(\"Failed to fit the Iqtau-tau curve\")\n",
    "        return (None, None, None, None, None, None, None)\n",
    "        \n",
    "    # summarize the parameter values\n",
    "    A, v, x_c, B, C = popt\n",
    "    # print('I(q,tau) = %.3f * (1 - np.exp(np.cos(2*math.pi*%.3f*tau)))*np.exp(-tau/%.3f) + %.3f*tau + %.3f' % (A,v,x_c,B,C))\n",
    "    pred_y = objective(x, A, v, x_c, B, C)\n",
    "    y_fit_error2 = np.mean(np.abs(y - pred_y)**2)\n",
    "    y_fit_error2_per = y_fit_error2/np.mean(np.square(y))\n",
    "    \n",
    "    plot_on = True\n",
    "    if plot_on and y_fit_error2_per<=0.002:\n",
    "        # plot input vs output\n",
    "        plt.scatter(x, y, s=6)\n",
    "        # define a sequence of inputs between the smallest and largest known inputs\n",
    "        x_line = np.arange(min(x), max(x), 0.1)\n",
    "        # calculate the output for the range\n",
    "        y_line = objective(x_line, A, v, x_c, B, C)\n",
    "        # create a line plot for the mapping function\n",
    "        labels=['Measured I(lambda='+str(np.round(lambda_value,2))+',tau)',\n",
    "            'I(lambda='+str(np.round(lambda_value,2))+',tau)'+'= {:.2f}(1-exp(cos(2pi*{:.2f}tau)))exp(-tau/{:.2f})+{:.2f}tau+{:.2f}'.format(A, v, x_c, B, C)]\n",
    "        labels = [ '\\n'.join(wrap(l, 41)) for l in labels ]\n",
    "        plt.plot(x_line, y_line, '--', color='red')\n",
    "        plt.xlabel('tau(s)')\n",
    "        plt.ylabel('I(lambda='+str(np.round(lambda_value,2))+',tau)')\n",
    "        plt.legend(labels)\n",
    "        # plt.legend('','')\n",
    "        \n",
    "        plt.savefig(plot_path+'fit_Iqtau_tau_lambda='+str(lambda_value)+'.jpg', bbox_inches='tight')\n",
    "        # plt.show()\n",
    "        plt.close()\n",
    "\n",
    "    return [lambda_value, A, v, x_c, B, C, y_fit_error2, y_fit_error2_per]"
   ]
  },
  {
   "cell_type": "code",
   "execution_count": 4,
   "metadata": {},
   "outputs": [],
   "source": [
    "def analyse_video_result_file(filename):\n",
    "    \n",
    "    plot_path = filename+\"_plot/\"\n",
    "    isExist = os.path.exists(plot_path)\n",
    "    if not isExist:\n",
    "        os.makedirs(plot_path)\n",
    "    \n",
    "    (lambda_vector, q_vector, tau_vector, Iqtau_mat, scale, tile_count) = read_file(filename)\n",
    "    \n",
    "    \n",
    "    plot_Iqtau_heatmap(lambda_vector, q_vector, tau_vector, Iqtau_mat, filename, plot_path)\n",
    "    \n",
    "    fit_result_arr=[]\n",
    "    for lambda_value in lambda_vector:\n",
    "        # if q_value==np.round(q_value,2):\n",
    "        # plot_Iqtau_tau(lambda_value, lambda_vector, q_vector, tau_vector, Iqtau_mat, filename, plot_path)\n",
    "        fit = fit_and_plot(lambda_value, lambda_vector, q_vector, tau_vector, Iqtau_mat, filename, plot_path)\n",
    "        fit_result_arr.append(fit)\n",
    "        \n",
    "    if plot_on:\n",
    "        for tau_number in range(len(tau_vector)):\n",
    "            if tau_number%10==0:\n",
    "                if tau_number==0:\n",
    "                    plot_Iqtau_q(tau_number, lambda_vector, q_vector, tau_vector, Iqtau_mat, filename, plot_path) \n",
    "                else:\n",
    "                    plot_Iqtau_q(tau_number-1, lambda_vector, q_vector, tau_vector, Iqtau_mat, filename, plot_path) \n",
    "            \n",
    "    # result = FileResult(filename, q_vector, tau_vector, scale, tile_count, fit_result_arr)\n",
    "    result = {'filename': filename, 'lambda_vector':lambda_vector.tolist(), 'q_vector': q_vector.tolist(), 'tau_vector': tau_vector.tolist(), 'scale': scale, 'tile_count': tile_count, 'fit_result_arr': fit_result_arr}\n",
    "    \n",
    "    return result\n",
    "        \n",
    "\n",
    "def analyse_video_result_folder(directoryname):\n",
    "     \n",
    "    directory = os.fsencode(directoryname)\n",
    "    \n",
    "    with open(directoryname+'result.txt', 'w') as fout:\n",
    "        for file in os.listdir(directory):\n",
    "            filename = os.fsdecode(file)\n",
    "            match = re.search(r'\\d+$', filename)\n",
    "            # if filename ends with an integer\n",
    "            if match is not None:\n",
    "                filename=directoryname+filename\n",
    "                # print(filename)\n",
    "                result = analyse_video_result_file(filename)\n",
    "                # result_list.append(result)\n",
    "                json.dump(result, fout)\n",
    "                fout.write(\"\\n\")"
   ]
  },
  {
   "cell_type": "code",
   "execution_count": 45,
   "metadata": {},
   "outputs": [],
   "source": [
    "%%capture\n",
    "directoryname =\"/cicutagroup/yz655/cuda_run_result/drone_even_lambda/compressed_fps10_gray_DJI_0052/\"\n",
    "# directoryname =\"/cicutagroup/yz655/cuda_run_result/nott_2power_lambda/compressed_fps10_WinterWheat1_2022-07-25-140826-0000/\"\n",
    "analyse_video_result_folder(directoryname)"
   ]
  },
  {
   "cell_type": "code",
   "execution_count": null,
   "metadata": {},
   "outputs": [],
   "source": [
    "%%capture\n",
    "# directoryname =\"/cicutagroup/yz655/cuda_run_result/drone_even_lambda/\"\n",
    "directoryname =\"/cicutagroup/yz655/cuda_run_result/nott_2power_lambda/\"\n",
    "# analyse_video_result_folder(directoryname)\n",
    "\n",
    "directory = os.fsencode(directoryname)\n",
    "\n",
    "result_list = []\n",
    "    \n",
    "for folder in os.listdir(directory):\n",
    "    folder=directoryname+folder.decode(\"utf-8\")+'/'\n",
    "    analyse_video_result_folder(folder)\n",
    "        "
   ]
  },
  {
   "cell_type": "code",
   "execution_count": 24,
   "metadata": {},
   "outputs": [
    {
     "name": "stdout",
     "output_type": "stream",
     "text": [
      "[0.41015315434129346, 0.4606668188455262, 0.456935350992201, 0.6294690258857529, 0.8993948576212493]\n"
     ]
    },
    {
     "data": {
      "image/png": "[encoded data removed]",
      "text/plain": [
       "<Figure size 640x480 with 1 Axes>"
      ]
     },
     "metadata": {},
     "output_type": "display_data"
    }
   ],
   "source": [
    "#Read json result file\n",
    "# directoryname =\"/cicutagroup/yz655/cuda_run_result/drone/compressed_fps10_gray_DJI_0050/\"\n",
    "# directoryname =\"/cicutagroup/yz655/cuda_run_result/nott_2power_lambda/compressed_fps10_WinterWheat1_2022-07-25-135901-0000/\"\n",
    "directoryname =\"/cicutagroup/yz655/cuda_run_result/drone_even_lambda/compressed_fps10_gray_DJI_0052/\"\n",
    "result_path = directoryname+'result.txt'\n",
    "  \n",
    "# reading the data from the file\n",
    "with open(result_path) as f:\n",
    "    data = [json.loads(line) for line in f]\n",
    "    # print(data)\n",
    "  \n",
    "# print(\"Data type before reconstruction : \", type(data))\n",
    "\n",
    "tauc_dict={}\n",
    "\n",
    "# [lambda_value, A, v, x_c, B, C, y_fit_error2, y_fit_error2_per]\n",
    "lambda_value = 32\n",
    "\n",
    "tauc_max = 100\n",
    "tauc_min = 1\n",
    "for d in data:\n",
    "    # if fit error percentage is less than threshold\n",
    "    for fit in d['fit_result_arr']:\n",
    "        if fit[-1]!=None and fit[-1]<=0.002 and fit[0]==lambda_value and fit[3]<=tauc_max and fit[3]>=tauc_min:\n",
    "            key = d['scale']\n",
    "            tauc = 1/fit[3]\n",
    "            if key not in tauc_dict:\n",
    "                tauc_dict[key] = [tauc]\n",
    "            else:\n",
    "                tauc_dict[key].append(tauc)\n",
    "\n",
    "tauc_dict = dict(sorted(tauc_dict.items()))\n",
    "value = list(tauc_dict.values())\n",
    "error = []\n",
    "mean = []\n",
    "for v in value:\n",
    "    mean.append(np.mean(v))\n",
    "    error.append(np.var(v))\n",
    "    \n",
    "print(mean)\n",
    "scale_vector = np.fromiter(tauc_dict.keys(), dtype=int)\n",
    "# print(value)\n",
    "\n",
    "# Creating plot\n",
    "scale2_vector = np.power(scale_vector, 2) # Effectively y = x**2\n",
    "\n",
    "plt.errorbar(scale2_vector, mean, error, fmt='-o')\n",
    "# plt.boxplot(value,positions=scale2_vector)\n",
    "plt.xscale('log')\n",
    "# plt.xlim(1e1,1e4)\n",
    "plt.xlabel('DDM window area (pix^2)')\n",
    "plt.ylabel('1/tau_c (s^-1)')\n",
    "# show plot\n",
    "plt.savefig(directoryname+'1_tauc_box_size_plot'+'.jpg', bbox_inches='tight')\n",
    "plt.show()\n",
    "plt.close()\n",
    "\n",
    "\n",
    " \n"
   ]
  },
  {
   "cell_type": "code",
   "execution_count": null,
   "metadata": {},
   "outputs": [],
   "source": []
  },
  {
   "cell_type": "code",
   "execution_count": null,
   "metadata": {},
   "outputs": [
    {
     "name": "stdout",
     "output_type": "stream",
     "text": [
      "60\n",
      "210\n",
      "(60, 210)\n"
     ]
    },
    {
     "data": {
      "image/png": "[encoded data removed]",
      "text/plain": [
       "<Figure size 640x480 with 16 Axes>"
      ]
     },
     "metadata": {},
     "output_type": "display_data"
    },
    {
     "name": "stdout",
     "output_type": "stream",
     "text": [
      "60\n",
      "210\n",
      "(60, 210)\n"
     ]
    },
    {
     "data": {
      "image/png": "[encoded data removed]",
      "text/plain": [
       "<Figure size 640x480 with 1 Axes>"
      ]
     },
     "metadata": {},
     "output_type": "display_data"
    },
    {
     "name": "stdout",
     "output_type": "stream",
     "text": [
      "60\n",
      "210\n",
      "(60, 210)\n"
     ]
    },
    {
     "data": {
      "image/png": "[encoded data removed]",
      "text/plain": [
       "<Figure size 640x480 with 1 Axes>"
      ]
     },
     "metadata": {},
     "output_type": "display_data"
    },
    {
     "name": "stdout",
     "output_type": "stream",
     "text": [
      "60\n",
      "210\n",
      "(60, 210)\n"
     ]
    },
    {
     "data": {
      "image/png": "[encoded data removed]",
      "text/plain": [
       "<Figure size 640x480 with 1 Axes>"
      ]
     },
     "metadata": {},
     "output_type": "display_data"
    },
    {
     "name": "stdout",
     "output_type": "stream",
     "text": [
      "60\n",
      "210\n",
      "(60, 210)\n"
     ]
    },
    {
     "data": {
      "image/png": "[encoded data removed]",
      "text/plain": [
       "<Figure size 640x480 with 1 Axes>"
      ]
     },
     "metadata": {},
     "output_type": "display_data"
    },
    {
     "name": "stdout",
     "output_type": "stream",
     "text": [
      "60\n",
      "210\n",
      "(60, 210)\n"
     ]
    },
    {
     "data": {
      "image/png": "[encoded data removed]",
      "text/plain": [
       "<Figure size 640x480 with 1 Axes>"
      ]
     },
     "metadata": {},
     "output_type": "display_data"
    },
    {
     "name": "stdout",
     "output_type": "stream",
     "text": [
      "60\n",
      "210\n",
      "(60, 210)\n"
     ]
    },
    {
     "data": {
      "image/png": "[encoded data removed]",
      "text/plain": [
       "<Figure size 640x480 with 1 Axes>"
      ]
     },
     "metadata": {},
     "output_type": "display_data"
    },
    {
     "name": "stdout",
     "output_type": "stream",
     "text": [
      "60\n",
      "210\n",
      "(60, 210)\n"
     ]
    },
    {
     "data": {
      "image/png": "[encoded data removed]",
      "text/plain": [
       "<Figure size 640x480 with 1 Axes>"
      ]
     },
     "metadata": {},
     "output_type": "display_data"
    },
    {
     "name": "stdout",
     "output_type": "stream",
     "text": [
      "60\n",
      "210\n",
      "(60, 210)\n"
     ]
    },
    {
     "data": {
      "image/png": "[encoded data removed]",
      "text/plain": [
       "<Figure size 640x480 with 1 Axes>"
      ]
     },
     "metadata": {},
     "output_type": "display_data"
    },
    {
     "name": "stdout",
     "output_type": "stream",
     "text": [
      "60\n",
      "210\n",
      "(60, 210)\n"
     ]
    },
    {
     "data": {
      "image/png": "[encoded data removed]",
      "text/plain": [
       "<Figure size 640x480 with 1 Axes>"
      ]
     },
     "metadata": {},
     "output_type": "display_data"
    },
    {
     "name": "stdout",
     "output_type": "stream",
     "text": [
      "60\n",
      "210\n",
      "(60, 210)\n"
     ]
    },
    {
     "data": {
      "image/png": "[encoded data removed]",
      "text/plain": [
       "<Figure size 640x480 with 1 Axes>"
      ]
     },
     "metadata": {},
     "output_type": "display_data"
    },
    {
     "name": "stdout",
     "output_type": "stream",
     "text": [
      "60\n",
      "210\n",
      "(60, 210)\n"
     ]
    },
    {
     "data": {
      "image/png": "[encoded data removed]",
      "text/plain": [
       "<Figure size 640x480 with 1 Axes>"
      ]
     },
     "metadata": {},
     "output_type": "display_data"
    },
    {
     "name": "stdout",
     "output_type": "stream",
     "text": [
      "60\n",
      "210\n",
      "(60, 210)\n"
     ]
    },
    {
     "data": {
      "image/png": "[encoded data removed]",
      "text/plain": [
       "<Figure size 640x480 with 1 Axes>"
      ]
     },
     "metadata": {},
     "output_type": "display_data"
    },
    {
     "name": "stdout",
     "output_type": "stream",
     "text": [
      "60\n",
      "210\n",
      "(60, 210)\n"
     ]
    },
    {
     "data": {
      "image/png": "[encoded data removed]",
      "text/plain": [
       "<Figure size 640x480 with 1 Axes>"
      ]
     },
     "metadata": {},
     "output_type": "display_data"
    },
    {
     "name": "stdout",
     "output_type": "stream",
     "text": [
      "60\n",
      "210\n",
      "(60, 210)\n"
     ]
    },
    {
     "data": {
      "image/png": "[encoded data removed]",
      "text/plain": [
       "<Figure size 640x480 with 1 Axes>"
      ]
     },
     "metadata": {},
     "output_type": "display_data"
    },
    {
     "name": "stdout",
     "output_type": "stream",
     "text": [
      "60\n",
      "210\n",
      "(60, 210)\n"
     ]
    },
    {
     "data": {
      "image/png": "[encoded data removed]",
      "text/plain": [
       "<Figure size 640x480 with 1 Axes>"
      ]
     },
     "metadata": {},
     "output_type": "display_data"
    }
   ],
   "source": [
    "def plot_Iqtau_heatmap(q_vector, tau_vector, Iqtau_mat, row, col, count, axarr):\n",
    "    \n",
    "\n",
    "    im = axarr[row,col].imshow(Iqtau_mat, cmap='hot', interpolation='nearest', aspect='auto', extent=[tau_vector[0],tau_vector[-1],q_vector[0],q_vector[-1]])\n",
    "\n",
    "    # Where we want the ticks, in pixel locations\n",
    "    xticks = tau_vector\n",
    "    yticks = q_vector\n",
    "    # What those pixel locations correspond to in data coordinates.\n",
    "    # Also set the float format here\n",
    "    xticklabels = [\"{:6.2f}\".format(i) for i in xticks]\n",
    "    yticklabels = [\"{:6.2f}\".format(i) for i in yticks]\n",
    "\n",
    "    # plt.xlabel('tau(s)')\n",
    "    # plt.ylabel('q')\n",
    "    # fig.colorbar(im)\n",
    "    plt.show()\n",
    "\n",
    "# fig = plt.figure(figsize=(4,4)) # Notice the equal aspect ratio\n",
    "# ax = [fig.add_subplot(4,4,i+1) for i in range(16)]\n",
    "f, axarr = plt.subplots(4,4)\n",
    "\n",
    "for row in range(4):\n",
    "    for col in range(4):\n",
    "        axarr[row,col].set_xticklabels([])\n",
    "        axarr[row,col].set_yticklabels([])\n",
    "        axarr[row,col].set_aspect('equal')\n",
    "    \n",
    "        count = row*4+col\n",
    "        filename = \"/cicutagroup/yz655/cuda_run_result/multistream/fps_10_compressed_gray_DJI_0051/256-\"+str(count)\n",
    "        (q_vector, tau_vector, Iqtau_mat) = read_file(filename)\n",
    "        plt.subplot(4,4,count+1)\n",
    "        plot_Iqtau_heatmap(q_vector, tau_vector, Iqtau_mat, row, col, count, axarr)\n",
    "        \n",
    "# axarr[0,0].imshow(image_datas[0])\n",
    "# axarr[0,1].imshow(image_datas[1])\n",
    "# axarr[1,0].imshow(image_datas[2])\n",
    "# axarr[1,1].imshow(image_datas[3])\n",
    "\n",
    "# for a in ax:\n",
    "#     a.set_xticklabels([])\n",
    "#     a.set_yticklabels([])\n",
    "#     a.set_aspect('equal')\n",
    "\n",
    "# fig.subplots_adjust(wspace=0, hspace=0)\n",
    "\n",
    "# for i in range(16):\n",
    "#     filename = \"/cicutagroup/yz655/cuda_run_result/multistream/fps_10_compressed_gray_DJI_0051/256-\"+str(i)\n",
    "#     (q_vector, tau_vector, Iqtau_mat) = read_file(filename)\n",
    "#     plot_Iqtau_heatmap(q_vector, tau_vector, Iqtau_mat, 4, 4, i)\n",
    "\n",
    "\n",
    "# plot_Iqtau_heatmap(q_vector, tau_vector, Iqtau_mat)\n",
    "# q_number = 40\n",
    "# plot_Iqtau_tau(q_number, tau_vector, Iqtau_mat)\n",
    "# tau_number = 60\n",
    "# plot_Iqtau_q(q_vector, tau_number, Iqtau_mat)\n",
    "# fit_and_plot(q_number, tau_vector, Iqtau_mat, tau_offset=18)"
   ]
  },
  {
   "cell_type": "code",
   "execution_count": null,
   "metadata": {},
   "outputs": [
    {
     "name": "stdout",
     "output_type": "stream",
     "text": [
      "[  2.048        2.06868687   2.08979592   2.11134021   2.13333333\n",
      "   2.15578947   2.1787234    2.20215054   2.22608696   2.25054945\n",
      "   2.27555556   2.3011236    2.32727273   2.35402299   2.38139535\n",
      "   2.40941176   2.43809524   2.46746988   2.49756098   2.52839506\n",
      "   2.56         2.59240506   2.62564103   2.65974026   2.69473684\n",
      "   2.73066667   2.76756757   2.80547945   2.84444444   2.88450704\n",
      "   2.92571429   2.96811594   3.01176471   3.05671642   3.1030303\n",
      "   3.15076923   3.2          3.25079365   3.30322581   3.35737705\n",
      "   3.41333333   3.47118644   3.53103448   3.59298246   3.65714286\n",
      "   3.72363636   3.79259259   3.86415094   3.93846154   4.01568627\n",
      "   4.096        4.17959184   4.26666667   4.35744681   4.45217391\n",
      "   4.55111111   4.65454545   4.7627907    4.87619048   4.99512195\n",
      "   5.12         5.25128205   5.38947368   5.53513514   5.68888889\n",
      "   5.85142857   6.02352941   6.20606061   6.4          6.60645161\n",
      "   6.82666667   7.06206897   7.31428571   7.58518519   7.87692308\n",
      "   8.192        8.53333333   8.90434783   9.30909091   9.75238095\n",
      "  10.24        10.77894737  11.37777778  12.04705882  12.8\n",
      "  13.65333333  14.62857143  15.75384615  17.06666667  18.61818182\n",
      "  20.48        22.75555556  25.6         29.25714286  34.13333333\n",
      "  40.96        51.2         68.26666667 102.4        204.8       ]\n"
     ]
    }
   ],
   "source": [
    "import numpy as np\n",
    "\n",
    "path = \"/cicutagroup/yz655/cuda_run/\"\n",
    "\n",
    "upper_scale = 10   # 2^10\n",
    "lower_scale = 10\n",
    "\n",
    "upper_q = 500   # m-1\n",
    "lower_q = 5\n",
    "q_number = 100\n",
    "\n",
    "upper_tau = 140  # frame number. tau count should be less than 1/3 of the total video frame\n",
    "lower_tau = 1\n",
    "tau_gap = 1\n",
    "\n",
    "\n",
    "\n",
    "q_list = np.linspace(lower_q, upper_q, num=q_number)\n",
    "# print(q_list)\n",
    "lambda_list = 2**upper_scale*np.reciprocal(q_list)\n",
    "# print(lambda_list)\n",
    "lambda_list = np.flip(lambda_list)\n",
    "print(lambda_list)\n",
    "# lambda_list = np.reciprocal(q_list)"
   ]
  }
 ],
 "metadata": {
  "interpreter": {
   "hash": "e7370f93d1d0cde622a1f8e1c04877d8463912d04d973331ad4851f04de6915a"
  },
  "kernelspec": {
   "display_name": "Python 3.8.10 64-bit",
   "language": "python",
   "name": "python3"
  },
  "language_info": {
   "codemirror_mode": {
    "name": "ipython",
    "version": 3
   },
   "file_extension": ".py",
   "mimetype": "text/x-python",
   "name": "python",
   "nbconvert_exporter": "python",
   "pygments_lexer": "ipython3",
   "version": "3.8.10"
  },
  "orig_nbformat": 4
 },
 "nbformat": 4,
 "nbformat_minor": 2
}
